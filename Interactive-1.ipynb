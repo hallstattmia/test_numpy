{
 "cells": [
  {
   "cell_type": "markdown",
   "metadata": {
    "isInteractiveWindowMessageCell": true
   },
   "source": [
    "已连接到 test_numpy2 (Python 3.12.3)"
   ]
  },
  {
   "cell_type": "code",
   "execution_count": 1,
   "metadata": {},
   "outputs": [
    {
     "ename": "NameError",
     "evalue": "name 'np' is not defined",
     "output_type": "error",
     "traceback": [
      "\u001b[0;31m---------------------------------------------------------------------------\u001b[0m",
      "\u001b[0;31mNameError\u001b[0m                                 Traceback (most recent call last)",
      "File \u001b[1;32m/home/jygong/git/test_numpy/test.py:2\u001b[0m\n\u001b[1;32m      1\u001b[0m \u001b[39m# %%\u001b[39;00m\n\u001b[0;32m----> 2\u001b[0m arr \u001b[39m=\u001b[39m np\u001b[39m.\u001b[39marray([\u001b[39m1\u001b[39m, \u001b[39m2\u001b[39m, \u001b[39m3\u001b[39m, \u001b[39m4\u001b[39m, \u001b[39m5\u001b[39m, \u001b[39m6\u001b[39m, \u001b[39m7\u001b[39m, \u001b[39m8\u001b[39m, \u001b[39m9\u001b[39m, \u001b[39m10\u001b[39m])\n\u001b[1;32m      3\u001b[0m arr \u001b[39m=\u001b[39m arr\u001b[39m.\u001b[39mreshape(\u001b[39m-\u001b[39m\u001b[39m1\u001b[39m, \u001b[39m2\u001b[39m)\n\u001b[1;32m      4\u001b[0m weights \u001b[39m=\u001b[39m np\u001b[39m.\u001b[39mrandom\u001b[39m.\u001b[39mrand(\u001b[39m5\u001b[39m, \u001b[39m2\u001b[39m)\n",
      "\u001b[0;31mNameError\u001b[0m: name 'np' is not defined"
     ]
    }
   ],
   "source": [
    "arr = np.array([1, 2, 3, 4, 5, 6, 7, 8, 9, 10])\n",
    "arr = arr.reshape(-1, 2)\n",
    "weights = np.random.rand(5, 2)\n",
    "print(weights)\n",
    "weights = np.broadcast_to(weights, arr.shape).astype(float)\n",
    "print(weights)\n",
    "weights /= weights.sum(axis=1, keepdims=True)\n",
    "print(weights)"
   ]
  },
  {
   "cell_type": "code",
   "execution_count": 2,
   "metadata": {},
   "outputs": [
    {
     "name": "stdout",
     "output_type": "stream",
     "text": [
      "[[0.48738152 0.04043403]\n",
      " [0.82982153 0.07186787]\n",
      " [0.52175722 0.52406506]\n",
      " [0.59168608 0.00586587]\n",
      " [0.96877603 0.00486927]]\n",
      "[[0.48738152 0.04043403]\n",
      " [0.82982153 0.07186787]\n",
      " [0.52175722 0.52406506]\n",
      " [0.59168608 0.00586587]\n",
      " [0.96877603 0.00486927]]\n",
      "[[0.92339363 0.07660637]\n",
      " [0.92029643 0.07970357]\n",
      " [0.49889664 0.50110336]\n",
      " [0.99018349 0.00981651]\n",
      " [0.99499892 0.00500108]]\n"
     ]
    }
   ],
   "source": [
    "import numpy as np\n",
    "arr = np.array([1, 2, 3, 4, 5, 6, 7, 8, 9, 10])\n",
    "arr = arr.reshape(-1, 2)\n",
    "weights = np.random.rand(5, 2)\n",
    "print(weights)\n",
    "weights = np.broadcast_to(weights, arr.shape).astype(float)\n",
    "print(weights)\n",
    "weights /= weights.sum(axis=1, keepdims=True)\n",
    "print(weights)"
   ]
  },
  {
   "cell_type": "code",
   "execution_count": 3,
   "metadata": {},
   "outputs": [
    {
     "name": "stdout",
     "output_type": "stream",
     "text": [
      "[0.71613129 0.38649263]\n",
      "[[0.71613129 0.38649263]\n",
      " [0.71613129 0.38649263]\n",
      " [0.71613129 0.38649263]\n",
      " [0.71613129 0.38649263]\n",
      " [0.71613129 0.38649263]]\n",
      "[[0.64947919 0.35052081]\n",
      " [0.64947919 0.35052081]\n",
      " [0.64947919 0.35052081]\n",
      " [0.64947919 0.35052081]\n",
      " [0.64947919 0.35052081]]\n"
     ]
    }
   ],
   "source": [
    "import numpy as np\n",
    "arr = np.array([1, 2, 3, 4, 5, 6, 7, 8, 9, 10])\n",
    "arr = arr.reshape(-1, 2)\n",
    "weights = np.random.rand(2)\n",
    "print(weights)\n",
    "weights = np.broadcast_to(weights, arr.shape).astype(float)\n",
    "print(weights)\n",
    "weights /= weights.sum(axis=1, keepdims=True)\n",
    "print(weights)"
   ]
  },
  {
   "cell_type": "code",
   "execution_count": 4,
   "metadata": {},
   "outputs": [
    {
     "name": "stdout",
     "output_type": "stream",
     "text": [
      "init [0.97370842 0.06602855]\n",
      "broadcast [[0.97370842 0.06602855]\n",
      " [0.97370842 0.06602855]\n",
      " [0.97370842 0.06602855]\n",
      " [0.97370842 0.06602855]\n",
      " [0.97370842 0.06602855]]\n",
      "normalize [[0.93649495 0.06350505]\n",
      " [0.93649495 0.06350505]\n",
      " [0.93649495 0.06350505]\n",
      " [0.93649495 0.06350505]\n",
      " [0.93649495 0.06350505]]\n"
     ]
    }
   ],
   "source": [
    "import numpy as np\n",
    "\n",
    "arr = np.array([1, 2, 3, 4, 5, 6, 7, 8, 9, 10])\n",
    "arr = arr.reshape(-1, 2)\n",
    "weights = np.random.rand(2)\n",
    "print(\"init\", weights)\n",
    "weights = np.broadcast_to(weights, arr.shape).astype(float)\n",
    "print(\"broadcast\", weights)\n",
    "weights /= weights.sum(axis=1, keepdims=True)\n",
    "print(\"normalize\", weights)"
   ]
  },
  {
   "cell_type": "code",
   "execution_count": 5,
   "metadata": {},
   "outputs": [
    {
     "name": "stdout",
     "output_type": "stream",
     "text": [
      "init [0.96980208 0.20412354]\n",
      "broadcast [[0.96980208 0.20412354]\n",
      " [0.96980208 0.20412354]\n",
      " [0.96980208 0.20412354]\n",
      " [0.96980208 0.20412354]\n",
      " [0.96980208 0.20412354]]\n",
      "normalize [[0.2 0.2]\n",
      " [0.2 0.2]\n",
      " [0.2 0.2]\n",
      " [0.2 0.2]\n",
      " [0.2 0.2]]\n"
     ]
    }
   ],
   "source": [
    "import numpy as np\n",
    "\n",
    "arr = np.array([1, 2, 3, 4, 5, 6, 7, 8, 9, 10])\n",
    "arr = arr.reshape(-1, 2)\n",
    "weights = np.random.rand(2)\n",
    "print(\"init\", weights)\n",
    "weights = np.broadcast_to(weights, arr.shape).astype(float)\n",
    "print(\"broadcast\", weights)\n",
    "weights /= weights.sum(axis=0, keepdims=True)\n",
    "print(\"normalize\", weights)"
   ]
  },
  {
   "cell_type": "code",
   "execution_count": 6,
   "metadata": {},
   "outputs": [
    {
     "name": "stdout",
     "output_type": "stream",
     "text": [
      "[0.   0.1  0.15]\n",
      "[[1.   3.   5.   7.   9.  ]\n",
      " [1.1  3.1  5.1  7.1  9.1 ]\n",
      " [1.15 3.15 5.15 7.15 9.15]]\n"
     ]
    }
   ],
   "source": [
    "import numpy as np\n",
    "\n",
    "q = np.asarray([0, 0.1, 0.15])\n",
    "print(q)\n",
    "\n",
    "arr = np.array([1, 2, 3, 4, 5, 6, 7, 8, 9, 10]).reshape(5, 2)\n",
    "w = np.ones_like(arr)\n",
    "\n",
    "print(np.quantile(arr, q, axis=[1]))"
   ]
  },
  {
   "cell_type": "code",
   "execution_count": 7,
   "metadata": {},
   "outputs": [
    {
     "name": "stdout",
     "output_type": "stream",
     "text": [
      "[0.   0.1  0.15]\n"
     ]
    },
    {
     "ename": "AttributeError",
     "evalue": "module 'numpy' has no attribute 'rrange'",
     "output_type": "error",
     "traceback": [
      "\u001b[0;31m---------------------------------------------------------------------------\u001b[0m",
      "\u001b[0;31mAttributeError\u001b[0m                            Traceback (most recent call last)",
      "File \u001b[1;32m/home/jygong/git/test_numpy/test.py:7\u001b[0m\n\u001b[1;32m      4\u001b[0m q \u001b[39m=\u001b[39m np\u001b[39m.\u001b[39masarray([\u001b[39m0\u001b[39m, \u001b[39m0.1\u001b[39m, \u001b[39m0.15\u001b[39m])\n\u001b[1;32m      5\u001b[0m \u001b[39mprint\u001b[39m(q)\n\u001b[0;32m----> 7\u001b[0m arr \u001b[39m=\u001b[39m np\u001b[39m.\u001b[39mrrange(\u001b[39m100\u001b[39m)\u001b[39m.\u001b[39mreshape(\u001b[39m10\u001b[39m, \u001b[39m5\u001b[39m, \u001b[39m2\u001b[39m)\n\u001b[1;32m      8\u001b[0m w \u001b[39m=\u001b[39m np\u001b[39m.\u001b[39mones_like(arr)\n\u001b[1;32m     10\u001b[0m \u001b[39mprint\u001b[39m(np\u001b[39m.\u001b[39mquantile(arr, q, axis\u001b[39m=\u001b[39m[\u001b[39m1\u001b[39m]))\n",
      "File \u001b[0;32m~/anaconda3_new/envs/test_numpy2/lib/python3.12/site-packages/numpy/__init__.py:410\u001b[0m, in \u001b[0;36m__getattr__\u001b[0;34m(attr)\u001b[0m\n\u001b[1;32m    407\u001b[0m     \u001b[39mimport\u001b[39;00m \u001b[39mnumpy\u001b[39;00m\u001b[39m.\u001b[39;00m\u001b[39mchar\u001b[39;00m \u001b[39mas\u001b[39;00m \u001b[39mchar\u001b[39;00m\n\u001b[1;32m    408\u001b[0m     \u001b[39mreturn\u001b[39;00m char\u001b[39m.\u001b[39mchararray\n\u001b[0;32m--> 410\u001b[0m \u001b[39mraise\u001b[39;00m \u001b[39mAttributeError\u001b[39;00m(\u001b[39m\"\u001b[39m\u001b[39mmodule \u001b[39m\u001b[39m{!r}\u001b[39;00m\u001b[39m has no attribute \u001b[39m\u001b[39m\"\u001b[39m\n\u001b[1;32m    411\u001b[0m                      \u001b[39m\"\u001b[39m\u001b[39m{!r}\u001b[39;00m\u001b[39m\"\u001b[39m\u001b[39m.\u001b[39mformat(\u001b[39m__name__\u001b[39m, attr))\n",
      "\u001b[0;31mAttributeError\u001b[0m: module 'numpy' has no attribute 'rrange'"
     ]
    }
   ],
   "source": [
    "import numpy as np\n",
    "\n",
    "q = np.asarray([0, 0.1, 0.15])\n",
    "print(q)\n",
    "\n",
    "arr = np.rrange(100).reshape(10, 5, 2)\n",
    "w = np.ones_like(arr)\n",
    "\n",
    "print(np.quantile(arr, q, axis=[1]))"
   ]
  },
  {
   "cell_type": "code",
   "execution_count": 8,
   "metadata": {},
   "outputs": [
    {
     "name": "stdout",
     "output_type": "stream",
     "text": [
      "[0.   0.1  0.15]\n",
      "[[[ 0.   1. ]\n",
      "  [10.  11. ]\n",
      "  [20.  21. ]\n",
      "  [30.  31. ]\n",
      "  [40.  41. ]\n",
      "  [50.  51. ]\n",
      "  [60.  61. ]\n",
      "  [70.  71. ]\n",
      "  [80.  81. ]\n",
      "  [90.  91. ]]\n",
      "\n",
      " [[ 0.8  1.8]\n",
      "  [10.8 11.8]\n",
      "  [20.8 21.8]\n",
      "  [30.8 31.8]\n",
      "  [40.8 41.8]\n",
      "  [50.8 51.8]\n",
      "  [60.8 61.8]\n",
      "  [70.8 71.8]\n",
      "  [80.8 81.8]\n",
      "  [90.8 91.8]]\n",
      "\n",
      " [[ 1.2  2.2]\n",
      "  [11.2 12.2]\n",
      "  [21.2 22.2]\n",
      "  [31.2 32.2]\n",
      "  [41.2 42.2]\n",
      "  [51.2 52.2]\n",
      "  [61.2 62.2]\n",
      "  [71.2 72.2]\n",
      "  [81.2 82.2]\n",
      "  [91.2 92.2]]]\n"
     ]
    }
   ],
   "source": [
    "import numpy as np\n",
    "\n",
    "q = np.asarray([0, 0.1, 0.15])\n",
    "print(q)\n",
    "\n",
    "arr = np.arange(100).reshape(10, 5, 2)\n",
    "w = np.ones_like(arr)\n",
    "\n",
    "print(np.quantile(arr, q, axis=[1]))"
   ]
  },
  {
   "cell_type": "code",
   "execution_count": 9,
   "metadata": {},
   "outputs": [
    {
     "name": "stdout",
     "output_type": "stream",
     "text": [
      "[0.   0.1  0.15]\n",
      "[[[ 0.   1.   2.   3. ]\n",
      "  [12.  13.  14.  15. ]]\n",
      "\n",
      " [[ 0.8  1.8  2.8  3.8]\n",
      "  [12.8 13.8 14.8 15.8]]\n",
      "\n",
      " [[ 1.2  2.2  3.2  4.2]\n",
      "  [13.2 14.2 15.2 16.2]]]\n"
     ]
    }
   ],
   "source": [
    "import numpy as np\n",
    "\n",
    "q = np.asarray([0, 0.1, 0.15])\n",
    "print(q)\n",
    "\n",
    "arr = np.arange(24).reshape(2, 3, 4)\n",
    "w = np.ones_like(arr)\n",
    "\n",
    "print(np.quantile(arr, q, axis=[1]))"
   ]
  },
  {
   "cell_type": "code",
   "execution_count": 10,
   "metadata": {},
   "outputs": [
    {
     "name": "stdout",
     "output_type": "stream",
     "text": [
      "[0.   0.1  0.15]\n",
      "[[ 0.   12.  ]\n",
      " [ 1.1  13.1 ]\n",
      " [ 1.65 13.65]]\n"
     ]
    }
   ],
   "source": [
    "import numpy as np\n",
    "\n",
    "q = np.asarray([0, 0.1, 0.15])\n",
    "print(q)\n",
    "\n",
    "arr = np.arange(24).reshape(2, 3, 4)\n",
    "w = np.ones_like(arr)\n",
    "\n",
    "print(np.quantile(arr, q, axis=[1, 2]))"
   ]
  },
  {
   "cell_type": "code",
   "execution_count": 11,
   "metadata": {},
   "outputs": [
    {
     "name": "stdout",
     "output_type": "stream",
     "text": [
      "[[ 0.   12.  ]\n",
      " [ 1.1  13.1 ]\n",
      " [ 1.65 13.65]]\n"
     ]
    }
   ],
   "source": [
    "import numpy as np\n",
    "\n",
    "q = np.asarray([0, 0.1, 0.15])\n",
    "\n",
    "arr = np.arange(24).reshape(2, 3, 4)\n",
    "w = np.ones_like(arr)\n",
    "\n",
    "print(np.quantile(arr, q, axis=[1, 2]))"
   ]
  },
  {
   "cell_type": "code",
   "execution_count": 12,
   "metadata": {},
   "outputs": [
    {
     "name": "stdout",
     "output_type": "stream",
     "text": [
      "[[[ 0  1  2  3]\n",
      "  [ 4  5  6  7]\n",
      "  [ 8  9 10 11]]\n",
      "\n",
      " [[12 13 14 15]\n",
      "  [16 17 18 19]\n",
      "  [20 21 22 23]]]\n",
      "[[ 0.   12.  ]\n",
      " [ 1.1  13.1 ]\n",
      " [ 1.65 13.65]]\n"
     ]
    }
   ],
   "source": [
    "import numpy as np\n",
    "\n",
    "q = np.asarray([0, 0.1, 0.15])\n",
    "\n",
    "arr = np.arange(24).reshape(2, 3, 4)\n",
    "w = np.ones_like(arr)\n",
    "print(arr)\n",
    "print(np.quantile(arr, q, axis=[1, 2]))"
   ]
  },
  {
   "cell_type": "code",
   "execution_count": 13,
   "metadata": {},
   "outputs": [
    {
     "name": "stdout",
     "output_type": "stream",
     "text": [
      "[[[ 0  1  2  3]\n",
      "  [ 4  5  6  7]\n",
      "  [ 8  9 10 11]]\n",
      "\n",
      " [[12 13 14 15]\n",
      "  [16 17 18 19]\n",
      "  [20 21 22 23]]]\n",
      "[[ 0.  12. ]\n",
      " [ 5.5 17.5]]\n"
     ]
    }
   ],
   "source": [
    "import numpy as np\n",
    "\n",
    "q = np.asarray([0, 0.5])\n",
    "\n",
    "arr = np.arange(24).reshape(2, 3, 4)\n",
    "w = np.ones_like(arr)\n",
    "print(arr)\n",
    "print(np.quantile(arr, q, axis=[1, 2]))"
   ]
  },
  {
   "cell_type": "code",
   "execution_count": 14,
   "metadata": {},
   "outputs": [],
   "source": [
    "def quantile(a, q, axis=0, weights=None):\n",
    "    if axis < 0:\n",
    "        axis += len(a.shape)\n",
    "    if weights is None:\n",
    "        return np.quantile(a, q)\n",
    "    weights = np.broadcast_to(weights, a.shape).astype(float)\n",
    "    weights /= weights.sum(axis=axis, keepdims=True)\n",
    "\n",
    "    ashape = a.shape\n",
    "    axislen = ashape[axis]\n",
    "\n",
    "    sorted_args = np.argsort(a, axis=axis)\n",
    "    sorted_a = np.take_along_axis(a, sorted_args, axis=axis)\n",
    "\n",
    "    # weights on the first and last\n",
    "\n",
    "    a_swap = np.swapaxes(sorted_a, axis, -1)\n",
    "    w_swap = np.swapaxes(weights, axis, -1)\n",
    "    a_flatten = a_swap.reshape(-1, axislen)\n",
    "    w_flatten = w_swap.reshape(-1, axislen)\n",
    "\n",
    "    # probably wanna change this into ufunc\n",
    "    q_flatten = np.zeros((a_flatten.shape[0], len(q)))\n",
    "    for al, wl, ql in zip(a_flatten, w_flatten, q_flatten):\n",
    "        print(al, wl, ql)\n",
    "        ql[:] = np.interp(q, wl.cumsum(), al)\n",
    "    return q_flatten"
   ]
  },
  {
   "cell_type": "code",
   "execution_count": 15,
   "metadata": {},
   "outputs": [
    {
     "name": "stdout",
     "output_type": "stream",
     "text": [
      "[ 0 12] [0.5 0.5] [0. 0.]\n",
      "[ 4 16] [0.5 0.5] [0. 0.]\n",
      "[ 8 20] [0.5 0.5] [0. 0.]\n",
      "[ 1 13] [0.5 0.5] [0. 0.]\n",
      "[ 5 17] [0.5 0.5] [0. 0.]\n",
      "[ 9 21] [0.5 0.5] [0. 0.]\n",
      "[ 2 14] [0.5 0.5] [0. 0.]\n",
      "[ 6 18] [0.5 0.5] [0. 0.]\n",
      "[10 22] [0.5 0.5] [0. 0.]\n",
      "[ 3 15] [0.5 0.5] [0. 0.]\n",
      "[ 7 19] [0.5 0.5] [0. 0.]\n",
      "[11 23] [0.5 0.5] [0. 0.]\n",
      "[[ 0.  0.]\n",
      " [ 4.  4.]\n",
      " [ 8.  8.]\n",
      " [ 1.  1.]\n",
      " [ 5.  5.]\n",
      " [ 9.  9.]\n",
      " [ 2.  2.]\n",
      " [ 6.  6.]\n",
      " [10. 10.]\n",
      " [ 3.  3.]\n",
      " [ 7.  7.]\n",
      " [11. 11.]]\n"
     ]
    }
   ],
   "source": [
    "print(quantile(arr, q, weights=w))"
   ]
  },
  {
   "cell_type": "code",
   "execution_count": 16,
   "metadata": {},
   "outputs": [],
   "source": [
    "import numpy as np\n",
    "\n",
    "arr = np.array([1, 2, 3, 4, 5, 6, 7, 8, 9, 10])\n",
    "arr = arr.reshape(-1, 2)\n",
    "weights = np.random.rand(2)\n",
    "print(\"init\", weights)\n",
    "weights = np.broadcast_to(weights, arr.shape).astype(float)\n",
    "print(\"broadcast\", weights)\n",
    "weights /= weights.sum(axis=0, keepdims=True)\n",
    "print(\"normalize\", weights)"
   ]
  }
 ],
 "metadata": {
  "kernelspec": {
   "display_name": "test_numpy2",
   "language": "python",
   "name": "python3"
  },
  "language_info": {
   "name": "python",
   "version": "3.12.3"
  }
 },
 "nbformat": 4,
 "nbformat_minor": 2
}
